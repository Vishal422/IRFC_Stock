{
 "cells": [
  {
   "cell_type": "code",
   "execution_count": 1,
   "id": "76401092",
   "metadata": {},
   "outputs": [
    {
     "name": "stderr",
     "output_type": "stream",
     "text": [
      "C:\\Users\\kiran\\anaconda3\\Lib\\site-packages\\pandas\\core\\arrays\\masked.py:60: UserWarning: Pandas requires version '1.3.6' or newer of 'bottleneck' (version '1.3.5' currently installed).\n",
      "  from pandas.core import (\n"
     ]
    },
    {
     "data": {
      "text/html": [
       "<div>\n",
       "<style scoped>\n",
       "    .dataframe tbody tr th:only-of-type {\n",
       "        vertical-align: middle;\n",
       "    }\n",
       "\n",
       "    .dataframe tbody tr th {\n",
       "        vertical-align: top;\n",
       "    }\n",
       "\n",
       "    .dataframe thead th {\n",
       "        text-align: right;\n",
       "    }\n",
       "</style>\n",
       "<table border=\"1\" class=\"dataframe\">\n",
       "  <thead>\n",
       "    <tr style=\"text-align: right;\">\n",
       "      <th></th>\n",
       "      <th>Unnamed: 0</th>\n",
       "      <th>open</th>\n",
       "      <th>high</th>\n",
       "      <th>low</th>\n",
       "      <th>close</th>\n",
       "      <th>adjclose</th>\n",
       "      <th>volume</th>\n",
       "      <th>ticker</th>\n",
       "    </tr>\n",
       "  </thead>\n",
       "  <tbody>\n",
       "    <tr>\n",
       "      <th>0</th>\n",
       "      <td>2021-01-29</td>\n",
       "      <td>24.900000</td>\n",
       "      <td>25.799999</td>\n",
       "      <td>24.350000</td>\n",
       "      <td>24.799999</td>\n",
       "      <td>21.363667</td>\n",
       "      <td>381938573</td>\n",
       "      <td>IRFC.NS</td>\n",
       "    </tr>\n",
       "    <tr>\n",
       "      <th>1</th>\n",
       "      <td>2021-02-01</td>\n",
       "      <td>25.250000</td>\n",
       "      <td>25.400000</td>\n",
       "      <td>24.900000</td>\n",
       "      <td>25.100000</td>\n",
       "      <td>21.622095</td>\n",
       "      <td>72044464</td>\n",
       "      <td>IRFC.NS</td>\n",
       "    </tr>\n",
       "    <tr>\n",
       "      <th>2</th>\n",
       "      <td>2021-02-02</td>\n",
       "      <td>25.450001</td>\n",
       "      <td>25.450001</td>\n",
       "      <td>24.700001</td>\n",
       "      <td>24.750000</td>\n",
       "      <td>21.320593</td>\n",
       "      <td>36735442</td>\n",
       "      <td>IRFC.NS</td>\n",
       "    </tr>\n",
       "    <tr>\n",
       "      <th>3</th>\n",
       "      <td>2021-02-03</td>\n",
       "      <td>24.799999</td>\n",
       "      <td>24.900000</td>\n",
       "      <td>24.049999</td>\n",
       "      <td>24.250000</td>\n",
       "      <td>20.889874</td>\n",
       "      <td>45816269</td>\n",
       "      <td>IRFC.NS</td>\n",
       "    </tr>\n",
       "    <tr>\n",
       "      <th>4</th>\n",
       "      <td>2021-02-04</td>\n",
       "      <td>24.250000</td>\n",
       "      <td>25.799999</td>\n",
       "      <td>23.850000</td>\n",
       "      <td>25.350000</td>\n",
       "      <td>21.837458</td>\n",
       "      <td>88486029</td>\n",
       "      <td>IRFC.NS</td>\n",
       "    </tr>\n",
       "  </tbody>\n",
       "</table>\n",
       "</div>"
      ],
      "text/plain": [
       "   Unnamed: 0       open       high        low      close   adjclose  \\\n",
       "0  2021-01-29  24.900000  25.799999  24.350000  24.799999  21.363667   \n",
       "1  2021-02-01  25.250000  25.400000  24.900000  25.100000  21.622095   \n",
       "2  2021-02-02  25.450001  25.450001  24.700001  24.750000  21.320593   \n",
       "3  2021-02-03  24.799999  24.900000  24.049999  24.250000  20.889874   \n",
       "4  2021-02-04  24.250000  25.799999  23.850000  25.350000  21.837458   \n",
       "\n",
       "      volume   ticker  \n",
       "0  381938573  IRFC.NS  \n",
       "1   72044464  IRFC.NS  \n",
       "2   36735442  IRFC.NS  \n",
       "3   45816269  IRFC.NS  \n",
       "4   88486029  IRFC.NS  "
      ]
     },
     "execution_count": 1,
     "metadata": {},
     "output_type": "execute_result"
    }
   ],
   "source": [
    "import pandas as pd\n",
    "\n",
    "# Load the dataset\n",
    "data = pd.read_csv('IRFC.NS_stock_data.csv')\n",
    "\n",
    "# Display the first few rows of the dataset\n",
    "\n",
    "data.head()"
   ]
  },
  {
   "cell_type": "code",
   "execution_count": 2,
   "id": "cd3702d7",
   "metadata": {},
   "outputs": [
    {
     "name": "stdout",
     "output_type": "stream",
     "text": [
      "Index(['Unnamed: 0', 'open', 'high', 'low', 'close', 'adjclose', 'volume',\n",
      "       'ticker'],\n",
      "      dtype='object')\n"
     ]
    },
    {
     "data": {
      "text/html": [
       "<div>\n",
       "<style scoped>\n",
       "    .dataframe tbody tr th:only-of-type {\n",
       "        vertical-align: middle;\n",
       "    }\n",
       "\n",
       "    .dataframe tbody tr th {\n",
       "        vertical-align: top;\n",
       "    }\n",
       "\n",
       "    .dataframe thead th {\n",
       "        text-align: right;\n",
       "    }\n",
       "</style>\n",
       "<table border=\"1\" class=\"dataframe\">\n",
       "  <thead>\n",
       "    <tr style=\"text-align: right;\">\n",
       "      <th></th>\n",
       "      <th>Unnamed: 0</th>\n",
       "      <th>open</th>\n",
       "      <th>high</th>\n",
       "      <th>low</th>\n",
       "      <th>close</th>\n",
       "      <th>adjclose</th>\n",
       "      <th>volume</th>\n",
       "      <th>ticker</th>\n",
       "    </tr>\n",
       "  </thead>\n",
       "  <tbody>\n",
       "    <tr>\n",
       "      <th>0</th>\n",
       "      <td>2021-01-29</td>\n",
       "      <td>24.900000</td>\n",
       "      <td>25.799999</td>\n",
       "      <td>24.350000</td>\n",
       "      <td>24.799999</td>\n",
       "      <td>21.363667</td>\n",
       "      <td>381938573</td>\n",
       "      <td>IRFC.NS</td>\n",
       "    </tr>\n",
       "    <tr>\n",
       "      <th>1</th>\n",
       "      <td>2021-02-01</td>\n",
       "      <td>25.250000</td>\n",
       "      <td>25.400000</td>\n",
       "      <td>24.900000</td>\n",
       "      <td>25.100000</td>\n",
       "      <td>21.622095</td>\n",
       "      <td>72044464</td>\n",
       "      <td>IRFC.NS</td>\n",
       "    </tr>\n",
       "    <tr>\n",
       "      <th>2</th>\n",
       "      <td>2021-02-02</td>\n",
       "      <td>25.450001</td>\n",
       "      <td>25.450001</td>\n",
       "      <td>24.700001</td>\n",
       "      <td>24.750000</td>\n",
       "      <td>21.320593</td>\n",
       "      <td>36735442</td>\n",
       "      <td>IRFC.NS</td>\n",
       "    </tr>\n",
       "    <tr>\n",
       "      <th>3</th>\n",
       "      <td>2021-02-03</td>\n",
       "      <td>24.799999</td>\n",
       "      <td>24.900000</td>\n",
       "      <td>24.049999</td>\n",
       "      <td>24.250000</td>\n",
       "      <td>20.889874</td>\n",
       "      <td>45816269</td>\n",
       "      <td>IRFC.NS</td>\n",
       "    </tr>\n",
       "    <tr>\n",
       "      <th>4</th>\n",
       "      <td>2021-02-04</td>\n",
       "      <td>24.250000</td>\n",
       "      <td>25.799999</td>\n",
       "      <td>23.850000</td>\n",
       "      <td>25.350000</td>\n",
       "      <td>21.837458</td>\n",
       "      <td>88486029</td>\n",
       "      <td>IRFC.NS</td>\n",
       "    </tr>\n",
       "  </tbody>\n",
       "</table>\n",
       "</div>"
      ],
      "text/plain": [
       "   Unnamed: 0       open       high        low      close   adjclose  \\\n",
       "0  2021-01-29  24.900000  25.799999  24.350000  24.799999  21.363667   \n",
       "1  2021-02-01  25.250000  25.400000  24.900000  25.100000  21.622095   \n",
       "2  2021-02-02  25.450001  25.450001  24.700001  24.750000  21.320593   \n",
       "3  2021-02-03  24.799999  24.900000  24.049999  24.250000  20.889874   \n",
       "4  2021-02-04  24.250000  25.799999  23.850000  25.350000  21.837458   \n",
       "\n",
       "      volume   ticker  \n",
       "0  381938573  IRFC.NS  \n",
       "1   72044464  IRFC.NS  \n",
       "2   36735442  IRFC.NS  \n",
       "3   45816269  IRFC.NS  \n",
       "4   88486029  IRFC.NS  "
      ]
     },
     "execution_count": 2,
     "metadata": {},
     "output_type": "execute_result"
    }
   ],
   "source": [
    "import numpy as np\n",
    "import matplotlib.pyplot as plt\n",
    "from sklearn.model_selection import train_test_split\n",
    "from sklearn.preprocessing import MinMaxScaler\n",
    "\n",
    "# Check the columns of the dataset\n",
    "print(data.columns)\n",
    "data.head()"
   ]
  },
  {
   "cell_type": "code",
   "execution_count": null,
   "id": "1fe17ea9",
   "metadata": {},
   "outputs": [],
   "source": []
  },
  {
   "cell_type": "code",
   "execution_count": 3,
   "id": "724bb328",
   "metadata": {},
   "outputs": [
    {
     "name": "stdout",
     "output_type": "stream",
     "text": [
      "<class 'pandas.core.frame.DataFrame'>\n",
      "RangeIndex: 801 entries, 0 to 800\n",
      "Data columns (total 8 columns):\n",
      " #   Column      Non-Null Count  Dtype  \n",
      "---  ------      --------------  -----  \n",
      " 0   Unnamed: 0  801 non-null    object \n",
      " 1   open        801 non-null    float64\n",
      " 2   high        801 non-null    float64\n",
      " 3   low         801 non-null    float64\n",
      " 4   close       801 non-null    float64\n",
      " 5   adjclose    801 non-null    float64\n",
      " 6   volume      801 non-null    int64  \n",
      " 7   ticker      801 non-null    object \n",
      "dtypes: float64(5), int64(1), object(2)\n",
      "memory usage: 50.2+ KB\n"
     ]
    }
   ],
   "source": [
    "data.info()"
   ]
  },
  {
   "cell_type": "code",
   "execution_count": 4,
   "id": "2dd8640d",
   "metadata": {},
   "outputs": [],
   "source": [
    "#data = data.rename(columns = {\"Date time \" : \"Unnamed: 0\"}, inplace = True )"
   ]
  },
  {
   "cell_type": "code",
   "execution_count": 5,
   "id": "8d478b5d",
   "metadata": {},
   "outputs": [],
   "source": [
    "#data = data.rename(columns = {\"Unnamed: 0 \" : \"Date\"}, inplace = True )"
   ]
  },
  {
   "cell_type": "code",
   "execution_count": 6,
   "id": "dafea5d6",
   "metadata": {},
   "outputs": [],
   "source": [
    "data.rename(columns={'Unnamed: 0': 'Date'}, inplace=True)"
   ]
  },
  {
   "cell_type": "code",
   "execution_count": 7,
   "id": "28e110a8",
   "metadata": {},
   "outputs": [],
   "source": [
    "\n",
    "# Use 'Close' price for prediction\n",
    "data = data[['Date','close']]"
   ]
  },
  {
   "cell_type": "code",
   "execution_count": 8,
   "id": "e48255c1",
   "metadata": {},
   "outputs": [
    {
     "name": "stdout",
     "output_type": "stream",
     "text": [
      "<class 'pandas.core.frame.DataFrame'>\n",
      "RangeIndex: 801 entries, 0 to 800\n",
      "Data columns (total 2 columns):\n",
      " #   Column  Non-Null Count  Dtype  \n",
      "---  ------  --------------  -----  \n",
      " 0   Date    801 non-null    object \n",
      " 1   close   801 non-null    float64\n",
      "dtypes: float64(1), object(1)\n",
      "memory usage: 12.6+ KB\n"
     ]
    }
   ],
   "source": [
    "data.info()"
   ]
  },
  {
   "cell_type": "code",
   "execution_count": null,
   "id": "a840877d",
   "metadata": {},
   "outputs": [],
   "source": []
  },
  {
   "cell_type": "code",
   "execution_count": 9,
   "id": "fb4d4b51",
   "metadata": {},
   "outputs": [],
   "source": [
    "# Convert 'Date' to datetime\n",
    "data['Date'] = pd.to_datetime(data['Date'])\n",
    "\n"
   ]
  },
  {
   "cell_type": "code",
   "execution_count": 10,
   "id": "ec7a052a",
   "metadata": {},
   "outputs": [
    {
     "data": {
      "image/png": "[encoded data removed]",
      "text/plain": [
       "<Figure size 1000x600 with 1 Axes>"
      ]
     },
     "metadata": {},
     "output_type": "display_data"
    }
   ],
   "source": [
    "# Sort by date\n",
    "data.sort_values('Date', inplace=True)\n",
    "\n",
    "# Plot the closing price\n",
    "plt.figure(figsize=(10, 6))\n",
    "plt.plot(data['Date'], data['close'])\n",
    "plt.xlabel('Date')\n",
    "plt.ylabel('Close Price')\n",
    "plt.title('IRFC Stock Price')\n",
    "plt.show()"
   ]
  },
  {
   "cell_type": "code",
   "execution_count": 11,
   "id": "d227802a",
   "metadata": {},
   "outputs": [],
   "source": [
    "\n",
    "# Prepare data for training\n",
    "data['close'] = data['close'].astype(float)\n"
   ]
  },
  {
   "cell_type": "code",
   "execution_count": 12,
   "id": "e5278af8",
   "metadata": {},
   "outputs": [],
   "source": [
    "\n",
    "# Create features and target variable\n",
    "X = data[['close']]\n",
    "y = data['close']\n"
   ]
  },
  {
   "cell_type": "code",
   "execution_count": 13,
   "id": "fb169974",
   "metadata": {},
   "outputs": [],
   "source": [
    "\n",
    "# Split the data into training and testing sets\n",
    "X_train, X_test, y_train, y_test = train_test_split(X, y, test_size=0.2, shuffle=False)\n"
   ]
  },
  {
   "cell_type": "code",
   "execution_count": 14,
   "id": "77ac14a3",
   "metadata": {},
   "outputs": [],
   "source": [
    "\n",
    "\n",
    "# Scale the data\n",
    "scaler = MinMaxScaler(feature_range=(0, 1))\n",
    "X_train_scaled = scaler.fit_transform(X_train)\n",
    "X_test_scaled = scaler.transform(X_test)\n"
   ]
  },
  {
   "cell_type": "code",
   "execution_count": 15,
   "id": "6e56bbca",
   "metadata": {},
   "outputs": [],
   "source": [
    "\n",
    "# Convert to numpy arrays for model compatibility\n",
    "X_train_scaled = np.array(X_train_scaled)\n",
    "X_test_scaled = np.array(X_test_scaled)\n",
    "y_train = np.array(y_train)\n",
    "y_test = np.array(y_test)\n"
   ]
  },
  {
   "cell_type": "code",
   "execution_count": 16,
   "id": "d0fa362b",
   "metadata": {},
   "outputs": [],
   "source": [
    "from tensorflow.keras.models import Sequential\n",
    "from tensorflow.keras.layers import Dense, LSTM\n",
    "\n",
    "# Reshape data for LSTM model\n",
    "X_train_scaled = X_train_scaled.reshape((X_train_scaled.shape[0], 1, X_train_scaled.shape[1]))\n",
    "X_test_scaled = X_test_scaled.reshape((X_test_scaled.shape[0], 1, X_test_scaled.shape[1]))"
   ]
  },
  {
   "cell_type": "code",
   "execution_count": null,
   "id": "34eb3fca",
   "metadata": {},
   "outputs": [],
   "source": []
  },
  {
   "cell_type": "code",
   "execution_count": 17,
   "id": "0f113504",
   "metadata": {},
   "outputs": [
    {
     "name": "stderr",
     "output_type": "stream",
     "text": [
      "C:\\Users\\kiran\\anaconda3\\Lib\\site-packages\\keras\\src\\layers\\rnn\\rnn.py:204: UserWarning: Do not pass an `input_shape`/`input_dim` argument to a layer. When using Sequential models, prefer using an `Input(shape)` object as the first layer in the model instead.\n",
      "  super().__init__(**kwargs)\n"
     ]
    }
   ],
   "source": [
    "\n",
    "\n",
    "# Build the LSTM model\n",
    "model = Sequential()\n",
    "model.add(LSTM(50, return_sequences=True, input_shape=(1, X_train_scaled.shape[2])))\n",
    "model.add(LSTM(50, return_sequences=False))\n",
    "model.add(Dense(25))\n",
    "model.add(Dense(1))\n",
    "\n"
   ]
  },
  {
   "cell_type": "code",
   "execution_count": 18,
   "id": "bd480abf",
   "metadata": {},
   "outputs": [],
   "source": [
    "# Compile the model\n",
    "model.compile(optimizer='adam', loss='mean_squared_error')\n"
   ]
  },
  {
   "cell_type": "code",
   "execution_count": 19,
   "id": "15090297",
   "metadata": {},
   "outputs": [
    {
     "name": "stdout",
     "output_type": "stream",
     "text": [
      "\u001b[1m640/640\u001b[0m \u001b[32m━━━━━━━━━━━━━━━━━━━━\u001b[0m\u001b[37m\u001b[0m \u001b[1m9s\u001b[0m 4ms/step - loss: 256.5046\n"
     ]
    },
    {
     "data": {
      "text/plain": [
       "<keras.src.callbacks.history.History at 0x226cd24c8d0>"
      ]
     },
     "execution_count": 19,
     "metadata": {},
     "output_type": "execute_result"
    }
   ],
   "source": [
    "\n",
    "# Train the model\n",
    "model.fit(X_train_scaled, y_train, batch_size=1, epochs=1)\n"
   ]
  },
  {
   "cell_type": "code",
   "execution_count": 20,
   "id": "00a7015b",
   "metadata": {},
   "outputs": [
    {
     "name": "stdout",
     "output_type": "stream",
     "text": [
      "\u001b[1m6/6\u001b[0m \u001b[32m━━━━━━━━━━━━━━━━━━━━\u001b[0m\u001b[37m\u001b[0m \u001b[1m1s\u001b[0m 126ms/step\n"
     ]
    }
   ],
   "source": [
    "\n",
    "# Make predictions\n",
    "predictions = model.predict(X_test_scaled)\n",
    "predictions = scaler.inverse_transform(predictions)\n"
   ]
  },
  {
   "cell_type": "code",
   "execution_count": 21,
   "id": "a5aca420",
   "metadata": {},
   "outputs": [
    {
     "name": "stdout",
     "output_type": "stream",
     "text": [
      "RMSE: 2226.1062940007346\n"
     ]
    },
    {
     "data": {
      "image/png": "[encoded data removed]",
      "text/plain": [
       "<Figure size 1000x600 with 1 Axes>"
      ]
     },
     "metadata": {},
     "output_type": "display_data"
    }
   ],
   "source": [
    "import math\n",
    "from sklearn.metrics import mean_squared_error\n",
    "\n",
    "# Calculate RMSE\n",
    "rmse = math.sqrt(mean_squared_error(y_test, predictions))\n",
    "print(f'RMSE: {rmse}')\n",
    "\n",
    "# Plot the predictions\n",
    "plt.figure(figsize=(10, 6))\n",
    "plt.plot(data['Date'], data['close'], label='Actual Prices')\n",
    "plt.plot(data['Date'].iloc[-len(predictions):], predictions, label='Predicted Prices')\n",
    "plt.xlabel('Date')\n",
    "plt.ylabel('Close Price')\n",
    "plt.title('IRFC Stock Price Prediction')\n",
    "plt.legend()\n",
    "plt.show()\n"
   ]
  },
  {
   "cell_type": "code",
   "execution_count": 22,
   "id": "62a11e8b",
   "metadata": {},
   "outputs": [
    {
     "name": "stderr",
     "output_type": "stream",
     "text": [
      "WARNING:absl:You are saving your model as an HDF5 file via `model.save()` or `keras.saving.save_model(model)`. This file format is considered legacy. We recommend using instead the native Keras format, e.g. `model.save('my_model.keras')` or `keras.saving.save_model(model, 'my_model.keras')`. \n"
     ]
    }
   ],
   "source": [
    "import pickle\n",
    "\n",
    "# Save the model\n",
    "model.save('lstm_model.h5')\n",
    "\n",
    "# Save the scaler\n",
    "with open('scaler.pkl', 'wb') as f:\n",
    "    pickle.dump(scaler, f)\n"
   ]
  },
  {
   "cell_type": "code",
   "execution_count": null,
   "id": "05e5e573",
   "metadata": {},
   "outputs": [],
   "source": []
  }
 ],
 "metadata": {
  "kernelspec": {
   "display_name": "Python 3 (ipykernel)",
   "language": "python",
   "name": "python3"
  },
  "language_info": {
   "codemirror_mode": {
    "name": "ipython",
    "version": 3
   },
   "file_extension": ".py",
   "mimetype": "text/x-python",
   "name": "python",
   "nbconvert_exporter": "python",
   "pygments_lexer": "ipython3",
   "version": "3.11.5"
  }
 },
 "nbformat": 4,
 "nbformat_minor": 5
}
